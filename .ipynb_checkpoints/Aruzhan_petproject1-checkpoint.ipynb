{
 "cells": [
  {
   "cell_type": "markdown",
   "id": "1ee21563",
   "metadata": {},
   "source": [
    "Для вас дан набор данных, как описано в файле \"dataset.csv\". Вы должны прочитать этот файл и выполнить следующие операции:"
   ]
  },
  {
   "cell_type": "markdown",
   "id": "009bc492",
   "metadata": {},
   "source": [
    "1. Преобразуйте все даты в правильный формат. Распечатайте результат фрейма данных."
   ]
  },
  {
   "cell_type": "code",
   "execution_count": 11,
   "id": "c422cb7a",
   "metadata": {},
   "outputs": [
    {
     "name": "stdout",
     "output_type": "stream",
     "text": [
      "    Duration       Date  Pulse  Maxpulse  Calories\n",
      "0         60 2020-12-01    110       130     409.1\n",
      "1         60 2020-12-02    117       145     479.0\n",
      "2         60 2020-12-03    103       135     340.0\n",
      "3         45 2020-12-04    109       175     282.4\n",
      "4         45 2020-12-05    117       148     406.0\n",
      "5         60 2020-12-06    102       127     300.0\n",
      "6         60 2020-12-07    110       136     374.0\n",
      "7        450 2020-12-08    104       134     253.3\n",
      "8         30 2020-12-09    109       133     195.1\n",
      "9         60 2020-12-10     98       124     269.0\n",
      "10        60 2020-12-11    103       147     329.3\n",
      "11        60 2020-12-12    100       120     250.7\n",
      "12        60 2020-12-12    100       120     250.7\n",
      "13        60 2020-12-13    106       128     345.3\n",
      "14        60 2020-12-14    104       132     379.3\n",
      "15        60 2020-12-15     98       123     275.0\n",
      "16        60 2020-12-16     98       120     215.2\n",
      "17        60 2020-12-17    100       120     300.0\n",
      "18        45 2020-12-18     90       112       NaN\n",
      "19        60 2020-12-19    103       123     323.0\n",
      "20        45 2020-12-20     97       125     243.0\n",
      "21        60 2020-12-21    108       131     364.2\n",
      "22        45        NaT    100       119     282.0\n",
      "23        60 2020-12-23    130       101     300.0\n",
      "24        45 2020-12-24    105       132     246.0\n",
      "25        60 2020-12-25    102       126     334.5\n",
      "26        60 2020-12-26    100       120     250.0\n",
      "27        60 2020-12-27     92       118     241.0\n",
      "28        60 2020-12-28    103       132       NaN\n",
      "29        60 2020-12-29    100       132     280.0\n",
      "30        60 2020-12-30    102       129     380.3\n",
      "30        60 2020-12-30    102       129     380.3\n",
      "30        60 2020-12-30    102       129     380.3\n",
      "30        60 2020-12-30    102       129     380.3\n",
      "31        60 2020-12-31     92       115     243.0\n"
     ]
    }
   ],
   "source": [
    "import pandas as pd\n",
    "df = pd.read_csv('dataset.csv')\n",
    "df['Date'] = pd.to_datetime(df['Date'], format=\"%Y/%m/%d\")\n",
    "print(df.to_string())"
   ]
  },
  {
   "cell_type": "markdown",
   "id": "98804d23",
   "metadata": {},
   "source": [
    "2. Для столбца \"Duration\", \"Pulse\", \"Maxpulse\", \"Calories\" определите пустые значения и замените их средним значением для этого столбца. Распечатайте результат фрейма данных."
   ]
  },
  {
   "cell_type": "code",
   "execution_count": 13,
   "id": "23609b3c",
   "metadata": {},
   "outputs": [
    {
     "name": "stdout",
     "output_type": "stream",
     "text": [
      "    Duration       Date  Pulse  Maxpulse    Calories\n",
      "0         60 2020-12-01    110       130  409.100000\n",
      "1         60 2020-12-02    117       145  479.000000\n",
      "2         60 2020-12-03    103       135  340.000000\n",
      "3         45 2020-12-04    109       175  282.400000\n",
      "4         45 2020-12-05    117       148  406.000000\n",
      "5         60 2020-12-06    102       127  300.000000\n",
      "6         60 2020-12-07    110       136  374.000000\n",
      "7        450 2020-12-08    104       134  253.300000\n",
      "8         30 2020-12-09    109       133  195.100000\n",
      "9         60 2020-12-10     98       124  269.000000\n",
      "10        60 2020-12-11    103       147  329.300000\n",
      "11        60 2020-12-12    100       120  250.700000\n",
      "12        60 2020-12-12    100       120  250.700000\n",
      "13        60 2020-12-13    106       128  345.300000\n",
      "14        60 2020-12-14    104       132  379.300000\n",
      "15        60 2020-12-15     98       123  275.000000\n",
      "16        60 2020-12-16     98       120  215.200000\n",
      "17        60 2020-12-17    100       120  300.000000\n",
      "18        45 2020-12-18     90       112  311.554545\n",
      "19        60 2020-12-19    103       123  323.000000\n",
      "20        45 2020-12-20     97       125  243.000000\n",
      "21        60 2020-12-21    108       131  364.200000\n",
      "22        45        NaT    100       119  282.000000\n",
      "23        60 2020-12-23    130       101  300.000000\n",
      "24        45 2020-12-24    105       132  246.000000\n",
      "25        60 2020-12-25    102       126  334.500000\n",
      "26        60 2020-12-26    100       120  250.000000\n",
      "27        60 2020-12-27     92       118  241.000000\n",
      "28        60 2020-12-28    103       132  311.554545\n",
      "29        60 2020-12-29    100       132  280.000000\n",
      "30        60 2020-12-30    102       129  380.300000\n",
      "30        60 2020-12-30    102       129  380.300000\n",
      "30        60 2020-12-30    102       129  380.300000\n",
      "30        60 2020-12-30    102       129  380.300000\n",
      "31        60 2020-12-31     92       115  243.000000\n"
     ]
    }
   ],
   "source": [
    "import pandas as pd\n",
    "df = pd.read_csv('dataset.csv')\n",
    "df = pd.read_csv('dataset.csv')\n",
    "df['Date'] = pd.to_datetime(df['Date'], format=\"%Y/%m/%d\")\n",
    "a = df[\"Duration\"].mean()\n",
    "b = df[\"Pulse\"].mean()\n",
    "c = df[\"Maxpulse\"].mean()\n",
    "d = df[\"Calories\"].mean()\n",
    "df[\"Duration\"].fillna(a, inplace = True)\n",
    "df[\"Pulse\"].fillna(b, inplace = True)\n",
    "df[\"Maxpulse\"].fillna(c, inplace = True)\n",
    "df[\"Calories\"].fillna(d, inplace = True)\n",
    "print(df.to_string())"
   ]
  },
  {
   "cell_type": "markdown",
   "id": "0c0d8ebd",
   "metadata": {},
   "source": [
    "3. Удалите дубликаты и распечатайте окончательный очищенный набор данных."
   ]
  },
  {
   "cell_type": "code",
   "execution_count": 17,
   "id": "fe34c7b3",
   "metadata": {},
   "outputs": [
    {
     "name": "stdout",
     "output_type": "stream",
     "text": [
      "    Duration       Date  Pulse  Maxpulse    Calories\n",
      "0         60 2020-12-01    110       130  409.100000\n",
      "1         60 2020-12-02    117       145  479.000000\n",
      "2         60 2020-12-03    103       135  340.000000\n",
      "3         45 2020-12-04    109       175  282.400000\n",
      "4         45 2020-12-05    117       148  406.000000\n",
      "5         60 2020-12-06    102       127  300.000000\n",
      "6         60 2020-12-07    110       136  374.000000\n",
      "7        450 2020-12-08    104       134  253.300000\n",
      "8         30 2020-12-09    109       133  195.100000\n",
      "9         60 2020-12-10     98       124  269.000000\n",
      "10        60 2020-12-11    103       147  329.300000\n",
      "11        60 2020-12-12    100       120  250.700000\n",
      "13        60 2020-12-13    106       128  345.300000\n",
      "14        60 2020-12-14    104       132  379.300000\n",
      "15        60 2020-12-15     98       123  275.000000\n",
      "16        60 2020-12-16     98       120  215.200000\n",
      "17        60 2020-12-17    100       120  300.000000\n",
      "18        45 2020-12-18     90       112  311.554545\n",
      "19        60 2020-12-19    103       123  323.000000\n",
      "20        45 2020-12-20     97       125  243.000000\n",
      "21        60 2020-12-21    108       131  364.200000\n",
      "22        45        NaT    100       119  282.000000\n",
      "23        60 2020-12-23    130       101  300.000000\n",
      "24        45 2020-12-24    105       132  246.000000\n",
      "25        60 2020-12-25    102       126  334.500000\n",
      "26        60 2020-12-26    100       120  250.000000\n",
      "27        60 2020-12-27     92       118  241.000000\n",
      "28        60 2020-12-28    103       132  311.554545\n",
      "29        60 2020-12-29    100       132  280.000000\n",
      "30        60 2020-12-30    102       129  380.300000\n",
      "31        60 2020-12-31     92       115  243.000000\n"
     ]
    }
   ],
   "source": [
    "import pandas as pd\n",
    "df = pd.read_csv('dataset.csv') #читаем файл\n",
    "df['Date'] = pd.to_datetime(df['Date'], format=\"%Y/%m/%d\") #changing date format\n",
    "a = df[\"Duration\"].mean() #avg value\n",
    "b = df[\"Pulse\"].mean()\n",
    "c = df[\"Maxpulse\"].mean()\n",
    "d = df[\"Calories\"].mean()\n",
    "df[\"Duration\"].fillna(a, inplace = True) #fill na \n",
    "df[\"Pulse\"].fillna(b, inplace = True)\n",
    "df[\"Maxpulse\"].fillna(c, inplace = True)\n",
    "df[\"Calories\"].fillna(d, inplace = True)\n",
    "df.drop_duplicates(inplace = True) #drop duplicates\n",
    "print(df.to_string())"
   ]
  },
  {
   "cell_type": "markdown",
   "id": "01f994cc",
   "metadata": {},
   "source": [
    "4. Получите значения из столбца «Calories» и сохраните их как массив numpy."
   ]
  },
  {
   "cell_type": "code",
   "execution_count": 19,
   "id": "bbced6db",
   "metadata": {},
   "outputs": [
    {
     "name": "stdout",
     "output_type": "stream",
     "text": [
      "[409.1        479.         340.         282.4        406.\n",
      " 300.         374.         253.3        195.1        269.\n",
      " 329.3        250.7        345.3        379.3        275.\n",
      " 215.2        300.         311.55454545 323.         243.\n",
      " 364.2        282.         300.         246.         334.5\n",
      " 250.         241.         311.55454545 280.         380.3\n",
      " 243.        ]\n"
     ]
    }
   ],
   "source": [
    "import numpy as np\n",
    "import pandas as pd\n",
    "df = pd.read_csv('dataset.csv') #читаем файл\n",
    "df['Date'] = pd.to_datetime(df['Date'], format=\"%Y/%m/%d\") #changing date format\n",
    "a = df[\"Duration\"].mean() #avg value\n",
    "b = df[\"Pulse\"].mean()\n",
    "c = df[\"Maxpulse\"].mean()\n",
    "d = df[\"Calories\"].mean()\n",
    "df[\"Duration\"].fillna(a, inplace = True) #fill na \n",
    "df[\"Pulse\"].fillna(b, inplace = True)\n",
    "df[\"Maxpulse\"].fillna(c, inplace = True)\n",
    "df[\"Calories\"].fillna(d, inplace = True)\n",
    "df.drop_duplicates(inplace = True) #drop duplicates\n",
    "\n",
    "arr = np.array(df['Calories']) #calories as new array\n",
    "print(arr)"
   ]
  },
  {
   "cell_type": "markdown",
   "id": "57995fbd",
   "metadata": {},
   "source": [
    "5. Используйте этот массив numpy и удалите все числа ниже 400 с помощью фильтра. Пожалуйста, распечатайте этот массив после фильтрации"
   ]
  },
  {
   "cell_type": "code",
   "execution_count": 21,
   "id": "523b3988",
   "metadata": {},
   "outputs": [
    {
     "name": "stdout",
     "output_type": "stream",
     "text": [
      "[409.1 479.  406. ]\n"
     ]
    }
   ],
   "source": [
    "import numpy as np\n",
    "import pandas as pd\n",
    "df = pd.read_csv('dataset.csv') #читаем файл\n",
    "df['Date'] = pd.to_datetime(df['Date'], format=\"%Y/%m/%d\") #changing date format\n",
    "a = df[\"Duration\"].mean() #avg value\n",
    "b = df[\"Pulse\"].mean()\n",
    "c = df[\"Maxpulse\"].mean()\n",
    "d = df[\"Calories\"].mean()\n",
    "df[\"Duration\"].fillna(a, inplace = True) #fill na \n",
    "df[\"Pulse\"].fillna(b, inplace = True)\n",
    "df[\"Maxpulse\"].fillna(c, inplace = True)\n",
    "df[\"Calories\"].fillna(d, inplace = True)\n",
    "df.drop_duplicates(inplace = True) #drop duplicates\n",
    "\n",
    "arr = np.array(df['Calories']) #calories as new array\n",
    "\n",
    "filter_arr = arr > 400\n",
    "\n",
    "newarr = arr[filter_arr]\n",
    "\n",
    "print(newarr)"
   ]
  },
  {
   "cell_type": "markdown",
   "id": "054f788b",
   "metadata": {},
   "source": [
    "6. Для этих чисел, пожалуйста, верните и распечатайте их \"Pulse\" значения."
   ]
  },
  {
   "cell_type": "code",
   "execution_count": 33,
   "id": "fbbed26f",
   "metadata": {},
   "outputs": [
    {
     "name": "stdout",
     "output_type": "stream",
     "text": [
      "[110 117 117]\n"
     ]
    }
   ],
   "source": [
    "arrtwo = np.array(df['Pulse'])\n",
    "newarrtwo = arrtwo[filter_arr]\n",
    "print(newarrtwo)"
   ]
  },
  {
   "cell_type": "markdown",
   "id": "808649a8",
   "metadata": {},
   "source": [
    "8. Нарисуйте график линии, проходящей через точки, полученные в задаче 5 и 6. Значения оси X можно получить из задачи 5. Значения оси Y можно получить из задачи 6."
   ]
  },
  {
   "cell_type": "code",
   "execution_count": 34,
   "id": "05d5d5d5",
   "metadata": {},
   "outputs": [
    {
     "data": {
      "image/png": "[encoded data removed]",
      "text/plain": [
       "<Figure size 640x480 with 1 Axes>"
      ]
     },
     "metadata": {},
     "output_type": "display_data"
    }
   ],
   "source": [
    "import matplotlib.pyplot as plt\n",
    "x = np.array([409.1, 479.0, 406.0])\n",
    "y = np.array([110, 117, 117])\n",
    "plt.plot(x, y)\n",
    "plt.show()"
   ]
  },
  {
   "cell_type": "code",
   "execution_count": null,
   "id": "ed98d39a",
   "metadata": {},
   "outputs": [],
   "source": []
  }
 ],
 "metadata": {
  "kernelspec": {
   "display_name": "Python 3 (ipykernel)",
   "language": "python",
   "name": "python3"
  },
  "language_info": {
   "codemirror_mode": {
    "name": "ipython",
    "version": 3
   },
   "file_extension": ".py",
   "mimetype": "text/x-python",
   "name": "python",
   "nbconvert_exporter": "python",
   "pygments_lexer": "ipython3",
   "version": "3.11.4"
  }
 },
 "nbformat": 4,
 "nbformat_minor": 5
}
